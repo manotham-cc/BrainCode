{
  "nbformat": 4,
  "nbformat_minor": 0,
  "metadata": {
    "colab": {
      "provenance": [],
      "gpuType": "T4"
    },
    "kernelspec": {
      "name": "python3",
      "display_name": "Python 3"
    },
    "language_info": {
      "name": "python"
    },
    "accelerator": "GPU"
  },
  "cells": [
    {
      "cell_type": "code",
      "source": [
        "!pip install lightgbm\n"
      ],
      "metadata": {
        "colab": {
          "base_uri": "https://localhost:8080/"
        },
        "id": "PUOYNMG4cMQG",
        "outputId": "bf34bb0e-8e1f-4f29-cf51-4834dc944b41"
      },
      "execution_count": null,
      "outputs": [
        {
          "output_type": "stream",
          "name": "stdout",
          "text": [
            "Requirement already satisfied: lightgbm in /usr/local/lib/python3.10/dist-packages (4.5.0)\n",
            "Requirement already satisfied: numpy>=1.17.0 in /usr/local/lib/python3.10/dist-packages (from lightgbm) (1.26.4)\n",
            "Requirement already satisfied: scipy in /usr/local/lib/python3.10/dist-packages (from lightgbm) (1.13.1)\n"
          ]
        }
      ]
    },
    {
      "cell_type": "code",
      "source": [
        "import pandas as pd\n",
        "import numpy as np"
      ],
      "metadata": {
        "id": "qtWTFsLmOaBU"
      },
      "execution_count": null,
      "outputs": []
    },
    {
      "cell_type": "code",
      "execution_count": null,
      "metadata": {
        "id": "4udMuY1wN_Jm"
      },
      "outputs": [],
      "source": [
        "dataset = \"/content/drive/MyDrive/Dataset_EEG/eeg_dataset.csv\""
      ]
    },
    {
      "cell_type": "code",
      "source": [
        "eeg_state = pd.read_csv(dataset)"
      ],
      "metadata": {
        "id": "jX4Bs2yYOUxW"
      },
      "execution_count": null,
      "outputs": []
    },
    {
      "cell_type": "code",
      "source": [
        "eeg_state.info()"
      ],
      "metadata": {
        "colab": {
          "base_uri": "https://localhost:8080/"
        },
        "id": "hKa7HYobOmAl",
        "outputId": "1a8c9e91-0ba1-49ab-a2bf-748a889463c4"
      },
      "execution_count": null,
      "outputs": [
        {
          "output_type": "stream",
          "name": "stdout",
          "text": [
            "<class 'pandas.core.frame.DataFrame'>\n",
            "RangeIndex: 768000 entries, 0 to 767999\n",
            "Data columns (total 8 columns):\n",
            " #   Column  Non-Null Count   Dtype  \n",
            "---  ------  --------------   -----  \n",
            " 0   F7      768000 non-null  float64\n",
            " 1   F3      768000 non-null  float64\n",
            " 2   P7      768000 non-null  float64\n",
            " 3   O1      768000 non-null  float64\n",
            " 4   O2      768000 non-null  float64\n",
            " 5   P8      768000 non-null  float64\n",
            " 6   AF4     768000 non-null  float64\n",
            " 7   state   768000 non-null  object \n",
            "dtypes: float64(7), object(1)\n",
            "memory usage: 46.9+ MB\n"
          ]
        }
      ]
    },
    {
      "cell_type": "code",
      "source": [
        "eeg_state = eeg_state.reset_index(drop=True)"
      ],
      "metadata": {
        "id": "Ddv7PhO2WlH7"
      },
      "execution_count": null,
      "outputs": []
    },
    {
      "cell_type": "code",
      "source": [
        "eeg_state['state'].value_counts()"
      ],
      "metadata": {
        "colab": {
          "base_uri": "https://localhost:8080/",
          "height": 178
        },
        "id": "lqzWrppTSOEM",
        "outputId": "a7523c96-7a90-4a79-bb5d-cee0bfbae585"
      },
      "execution_count": null,
      "outputs": [
        {
          "output_type": "execute_result",
          "data": {
            "text/plain": [
              "state\n",
              "focussed      384000\n",
              "unfocussed    384000\n",
              "Name: count, dtype: int64"
            ],
            "text/html": [
              "<div>\n",
              "<style scoped>\n",
              "    .dataframe tbody tr th:only-of-type {\n",
              "        vertical-align: middle;\n",
              "    }\n",
              "\n",
              "    .dataframe tbody tr th {\n",
              "        vertical-align: top;\n",
              "    }\n",
              "\n",
              "    .dataframe thead th {\n",
              "        text-align: right;\n",
              "    }\n",
              "</style>\n",
              "<table border=\"1\" class=\"dataframe\">\n",
              "  <thead>\n",
              "    <tr style=\"text-align: right;\">\n",
              "      <th></th>\n",
              "      <th>count</th>\n",
              "    </tr>\n",
              "    <tr>\n",
              "      <th>state</th>\n",
              "      <th></th>\n",
              "    </tr>\n",
              "  </thead>\n",
              "  <tbody>\n",
              "    <tr>\n",
              "      <th>focussed</th>\n",
              "      <td>384000</td>\n",
              "    </tr>\n",
              "    <tr>\n",
              "      <th>unfocussed</th>\n",
              "      <td>384000</td>\n",
              "    </tr>\n",
              "  </tbody>\n",
              "</table>\n",
              "</div><br><label><b>dtype:</b> int64</label>"
            ]
          },
          "metadata": {},
          "execution_count": 19
        }
      ]
    },
    {
      "cell_type": "code",
      "source": [
        "eeg_state['state'].value_counts()"
      ],
      "metadata": {
        "colab": {
          "base_uri": "https://localhost:8080/",
          "height": 178
        },
        "id": "80Il1LlycCEy",
        "outputId": "4b1d4d25-7582-4f3e-c993-b84c8714785a"
      },
      "execution_count": null,
      "outputs": [
        {
          "output_type": "execute_result",
          "data": {
            "text/plain": [
              "state\n",
              "focussed      384000\n",
              "unfocussed    384000\n",
              "Name: count, dtype: int64"
            ],
            "text/html": [
              "<div>\n",
              "<style scoped>\n",
              "    .dataframe tbody tr th:only-of-type {\n",
              "        vertical-align: middle;\n",
              "    }\n",
              "\n",
              "    .dataframe tbody tr th {\n",
              "        vertical-align: top;\n",
              "    }\n",
              "\n",
              "    .dataframe thead th {\n",
              "        text-align: right;\n",
              "    }\n",
              "</style>\n",
              "<table border=\"1\" class=\"dataframe\">\n",
              "  <thead>\n",
              "    <tr style=\"text-align: right;\">\n",
              "      <th></th>\n",
              "      <th>count</th>\n",
              "    </tr>\n",
              "    <tr>\n",
              "      <th>state</th>\n",
              "      <th></th>\n",
              "    </tr>\n",
              "  </thead>\n",
              "  <tbody>\n",
              "    <tr>\n",
              "      <th>focussed</th>\n",
              "      <td>384000</td>\n",
              "    </tr>\n",
              "    <tr>\n",
              "      <th>unfocussed</th>\n",
              "      <td>384000</td>\n",
              "    </tr>\n",
              "  </tbody>\n",
              "</table>\n",
              "</div><br><label><b>dtype:</b> int64</label>"
            ]
          },
          "metadata": {},
          "execution_count": 20
        }
      ]
    },
    {
      "cell_type": "code",
      "source": [
        "eeg_state.to_csv(\"/content/eeg_dataset_new.csv\", index=False)"
      ],
      "metadata": {
        "id": "_y51cY_eauEi"
      },
      "execution_count": null,
      "outputs": []
    },
    {
      "cell_type": "code",
      "source": [
        "import numpy as np\n",
        "from sklearn.metrics import confusion_matrix\n",
        "\n",
        "def custom_classification_report(y_true, y_pred, target_names, class_indices):\n",
        "    # Compute the confusion matrix\n",
        "    cm = confusion_matrix(y_true, y_pred)\n",
        "\n",
        "    # Initialize lists to store precision, recall, F1-score, and support for each class\n",
        "    precision = []\n",
        "    recall = []\n",
        "    f1_score = []\n",
        "    support = []\n",
        "\n",
        "    # Calculate precision, recall, F1-score for each class\n",
        "    for i in range(len(target_names)):\n",
        "        true_positives = cm[i, i]\n",
        "        false_positives = cm[:, i].sum() - true_positives\n",
        "        false_negatives = cm[i, :].sum() - true_positives\n",
        "        true_negatives = cm.sum() - (true_positives + false_positives + false_negatives)\n",
        "\n",
        "        # Precision: TP / (TP + FP)\n",
        "        if true_positives + false_positives > 0:\n",
        "            precision_i = true_positives / (true_positives + false_positives)\n",
        "        else:\n",
        "            precision_i = 0.0\n",
        "\n",
        "        # Recall: TP / (TP + FN)\n",
        "        if true_positives + false_negatives > 0:\n",
        "            recall_i = true_positives / (true_positives + false_negatives)\n",
        "        else:\n",
        "            recall_i = 0.0\n",
        "\n",
        "        # F1-Score: 2 * (Precision * Recall) / (Precision + Recall)\n",
        "        if precision_i + recall_i > 0:\n",
        "            f1_i = 2 * (precision_i * recall_i) / (precision_i + recall_i)\n",
        "        else:\n",
        "            f1_i = 0.0\n",
        "\n",
        "        # Support: The number of true instances of each class\n",
        "        support_i = cm[i, :].sum()\n",
        "\n",
        "        # Append calculated metrics for this class\n",
        "        precision.append(precision_i)\n",
        "        recall.append(recall_i)\n",
        "        f1_score.append(f1_i)\n",
        "        support.append(support_i)\n",
        "\n",
        "    # Calculate accuracy\n",
        "    accuracy = np.trace(cm) / np.sum(cm)\n",
        "\n",
        "    # Calculate average F1-score for specified classes\n",
        "    f1_average = np.mean([f1_score[i] for i in class_indices])\n",
        "\n",
        "    # Print the aesthetically improved report\n",
        "    print(\"\\n\" + \"Classification Report\".center(65, \"=\"))\n",
        "    print(f\"{'Class':<15}{'Precision':>12}{'Recall':>12}{'F1-Score':>12}{'Support':>12}\")\n",
        "    print(\"=\" * 65)\n",
        "    for i, label in enumerate(target_names):\n",
        "        print(f\"{label:<15}{precision[i]:>12.4f}{recall[i]:>12.4f}{f1_score[i]:>12.4f}{support[i]:>12}\")\n",
        "    print(\"=\" * 65)\n",
        "    print(f\"Average F1-Score for classes : {f1_average:.4f}\")\n",
        "    print(\"=\" * 65)\n",
        "\n",
        "class_indices = [0, 1]\n"
      ],
      "metadata": {
        "id": "QZtoee_xgYI_"
      },
      "execution_count": null,
      "outputs": []
    },
    {
      "cell_type": "code",
      "source": [
        "import pandas as pd\n",
        "import numpy as np\n",
        "import lightgbm as lgb\n",
        "from sklearn.model_selection import train_test_split\n",
        "from sklearn.metrics import classification_report\n",
        "from sklearn.preprocessing import LabelEncoder, StandardScaler\n",
        "from imblearn.over_sampling import RandomOverSampler\n",
        "\n",
        "# Handle missing values\n",
        "eeg_state = eeg_state.dropna()\n",
        "\n",
        "# Encode the 'state' column\n",
        "le = LabelEncoder()\n",
        "eeg_state['state'] = le.fit_transform(eeg_state['state'])\n",
        "\n",
        "# Features and target\n",
        "X = eeg_state.drop('state', axis=1)\n",
        "y = eeg_state['state']\n",
        "\n",
        "# Split the data\n",
        "X_train, X_test, y_train, y_test = train_test_split(X, y, test_size=0.2, random_state=42, stratify=y)\n",
        "\n",
        "# Initialize LightGBM parameters\n",
        "params = {\n",
        "    'objective': 'multiclass',\n",
        "    'num_class': 2,  # number of classes\n",
        "    'learning_rate': 0.1,\n",
        "    'num_iterations': 700,\n",
        "    'max_depth': 8,\n",
        "    'random_seed': 42,\n",
        "    'metric': 'multi_logloss',\n",
        "    'num_leaves': 31,\n",
        "    'feature_fraction': 0.8,\n",
        "    'bagging_fraction': 0.8,\n",
        "    'bagging_freq': 5,\n",
        "    'verbose': 1\n",
        "}\n",
        "\n",
        "# Create dataset for LightGBM\n",
        "train_data = lgb.Dataset(X_train, label=y_train)\n",
        "test_data = lgb.Dataset(X_test, label=y_test, reference=train_data)\n",
        "\n",
        "# Train the model\n",
        "lgb_model = lgb.train(\n",
        "    params,\n",
        "    train_data,\n",
        "    valid_sets=[train_data, test_data],\n",
        "\n",
        ")\n",
        "\n",
        "# Predict the class labels\n",
        "y_pred = lgb_model.predict(X_test)\n",
        "\n",
        "# Convert probabilities to predicted class labels\n",
        "y_pred_class = np.argmax(y_pred, axis=1)\n"
      ],
      "metadata": {
        "colab": {
          "base_uri": "https://localhost:8080/"
        },
        "id": "Szow0Yt2VEt6",
        "outputId": "2ce068dc-524e-49f7-cab8-5ad87cef2c7c"
      },
      "execution_count": null,
      "outputs": [
        {
          "output_type": "stream",
          "name": "stderr",
          "text": [
            "/usr/local/lib/python3.10/dist-packages/lightgbm/engine.py:204: UserWarning: Found `num_iterations` in params. Will use it instead of argument\n",
            "  _log_warning(f\"Found `{alias}` in params. Will use it instead of argument\")\n"
          ]
        },
        {
          "output_type": "stream",
          "name": "stdout",
          "text": [
            "[LightGBM] [Info] Auto-choosing col-wise multi-threading, the overhead of testing was 0.042425 seconds.\n",
            "You can set `force_col_wise=true` to remove the overhead.\n",
            "[LightGBM] [Info] Total Bins 1785\n",
            "[LightGBM] [Info] Number of data points in the train set: 614400, number of used features: 7\n",
            "[LightGBM] [Info] Start training from score -0.693147\n",
            "[LightGBM] [Info] Start training from score -0.693147\n"
          ]
        }
      ]
    },
    {
      "cell_type": "code",
      "source": [],
      "metadata": {
        "id": "duaHrAqIlHRj"
      },
      "execution_count": null,
      "outputs": []
    },
    {
      "cell_type": "code",
      "source": [
        "import joblib\n",
        "# save model\n",
        "joblib.dump(lgb_model, '/content/drive/MyDrive/Dataset_EEG/lgbEEG.pkl')"
      ],
      "metadata": {
        "id": "kgJ6FeOSlGOC"
      },
      "execution_count": null,
      "outputs": []
    },
    {
      "cell_type": "code",
      "source": [
        "# Example usage with y_test and y_pred\n",
        "custom_classification_report(y_test, y_pred_class, target_names=le.classes_, class_indices=class_indices)"
      ],
      "metadata": {
        "colab": {
          "base_uri": "https://localhost:8080/"
        },
        "id": "oNiqRClggeoH",
        "outputId": "85b78e24-8d5c-48df-8a9a-ed25f953affe"
      },
      "execution_count": null,
      "outputs": [
        {
          "output_type": "stream",
          "name": "stdout",
          "text": [
            "\n",
            "======================Classification Report======================\n",
            "Class             Precision      Recall    F1-Score     Support\n",
            "=================================================================\n",
            "0                    0.8567      0.8758      0.8661       76800\n",
            "1                    0.8729      0.8535      0.8631       76800\n",
            "=================================================================\n",
            "Accuracy:    0.8646\n",
            "Average F1-Score for classes : 0.8646\n",
            "=================================================================\n"
          ]
        }
      ]
    },
    {
      "cell_type": "code",
      "source": [
        "import matplotlib.pyplot as plt\n",
        "import seaborn as sns\n",
        "import pandas as pd\n",
        "# Get feature names\n",
        "feature_names = X.columns\n",
        "\n",
        "# Create a DataFrame for easy plotting\n",
        "importance_df = pd.DataFrame({\n",
        "    'Feature': feature_names,\n",
        "    'Importance': lgb_model.feature_importance()\n",
        "})\n",
        "\n",
        "# Sort by importance\n",
        "importance_df = importance_df.sort_values(by='Importance', ascending=False)\n",
        "\n",
        "# Set up the plot\n",
        "plt.figure(figsize=(8, 8))\n",
        "sns.barplot(x='Importance', y='Feature', data=importance_df, palette='viridis')\n",
        "\n",
        "# Add labels and title\n",
        "plt.title('Feature Importance')\n",
        "plt.xlabel('Importance Score')\n",
        "plt.ylabel('Feature')\n",
        "\n",
        "# Display the plot\n",
        "plt.tight_layout()\n",
        "plt.show()\n"
      ],
      "metadata": {
        "colab": {
          "base_uri": "https://localhost:8080/",
          "height": 898
        },
        "id": "H8C2KF-NVSue",
        "outputId": "1525cd7f-93d8-4929-8adf-3692b7795ef7"
      },
      "execution_count": null,
      "outputs": [
        {
          "output_type": "stream",
          "name": "stderr",
          "text": [
            "<ipython-input-122-07ba67f731b1>:18: FutureWarning: \n",
            "\n",
            "Passing `palette` without assigning `hue` is deprecated and will be removed in v0.14.0. Assign the `y` variable to `hue` and set `legend=False` for the same effect.\n",
            "\n",
            "  sns.barplot(x='Importance', y='Feature', data=importance_df, palette='viridis')\n"
          ]
        },
        {
          "output_type": "display_data",
          "data": {
            "text/plain": [
              "<Figure size 800x800 with 1 Axes>"
            ],
            "image/png": "[encoded data removed]"
          },
          "metadata": {}
        }
      ]
    },
    {
      "cell_type": "code",
      "source": [
        "import pandas as pd\n",
        "import joblib\n",
        "from sklearn.preprocessing import LabelEncoder\n",
        "from sklearn.metrics import accuracy_score, classification_report\n",
        "\n",
        "# Load the dataset\n",
        "test_path = \"/content/drive/MyDrive/Dataset_EEG/eeg_dataset.csv\"\n",
        "data = pd.read_csv(test_path)\n",
        "\n",
        "# Load the pre-trained model\n",
        "gbm_pickle = joblib.load('/content/drive/MyDrive/Dataset_EEG/lgbEEG.pkl')\n",
        "\n",
        "# Encode the 'state' column\n",
        "label_encoder = LabelEncoder()\n",
        "data['state'] = label_encoder.fit_transform(data['state'])\n",
        "\n",
        "# Prepare your data\n",
        "X = data.drop('state', axis=1)  # Drop the label column\n",
        "y = data['state']  # Use the encoded labels\n",
        "\n",
        "# Make predictions (for binary classification)\n",
        "predictions = gbm_pickle.predict(X)  # This gives predicted class labels\n",
        "predictions = np.argmax(predictions, axis=1)\n",
        "# Evaluate the model\n",
        "class_indices = target_names = [0, 1]\n"
      ],
      "metadata": {
        "id": "zkxyc-NtpHup"
      },
      "execution_count": null,
      "outputs": []
    },
    {
      "cell_type": "code",
      "source": [
        "data.info()"
      ],
      "metadata": {
        "colab": {
          "base_uri": "https://localhost:8080/"
        },
        "id": "za01-BaO1hTC",
        "outputId": "17dc92e8-4c52-4dd7-81f4-b8d27099d171"
      },
      "execution_count": null,
      "outputs": [
        {
          "output_type": "stream",
          "name": "stdout",
          "text": [
            "<class 'pandas.core.frame.DataFrame'>\n",
            "RangeIndex: 768000 entries, 0 to 767999\n",
            "Data columns (total 8 columns):\n",
            " #   Column  Non-Null Count   Dtype  \n",
            "---  ------  --------------   -----  \n",
            " 0   F7      768000 non-null  float64\n",
            " 1   F3      768000 non-null  float64\n",
            " 2   P7      768000 non-null  float64\n",
            " 3   O1      768000 non-null  float64\n",
            " 4   O2      768000 non-null  float64\n",
            " 5   P8      768000 non-null  float64\n",
            " 6   AF4     768000 non-null  float64\n",
            " 7   state   768000 non-null  int64  \n",
            "dtypes: float64(7), int64(1)\n",
            "memory usage: 46.9 MB\n"
          ]
        }
      ]
    },
    {
      "cell_type": "code",
      "source": [
        "custom_classification_report(y, predictions, class_indices,target_names)"
      ],
      "metadata": {
        "colab": {
          "base_uri": "https://localhost:8080/"
        },
        "id": "EZvZt4j9wxo3",
        "outputId": "a14b52ff-c0a2-4537-e5e5-877c0677ecf4"
      },
      "execution_count": null,
      "outputs": [
        {
          "output_type": "stream",
          "name": "stdout",
          "text": [
            "\n",
            "======================Classification Report======================\n",
            "Class             Precision      Recall    F1-Score     Support\n",
            "=================================================================\n",
            "0                    0.8635      0.8819      0.8726      384000\n",
            "1                    0.8793      0.8605      0.8698      384000\n",
            "=================================================================\n",
            "Average F1-Score for classes : 0.8712\n",
            "=================================================================\n"
          ]
        }
      ]
    },
    {
      "cell_type": "code",
      "source": [
        "import pygame\n",
        "import sys\n",
        "import numpy as np\n",
        "import pandas as pd\n",
        "import joblib\n",
        "from sklearn.preprocessing import LabelEncoder\n",
        "\n",
        "# Initialize Pygame\n",
        "pygame.init()\n",
        "\n",
        "# Screen setup\n",
        "WIDTH, HEIGHT = 800, 600\n",
        "screen = pygame.display.set_mode((WIDTH, HEIGHT))\n",
        "pygame.display.set_caption(\"EEG State Predictor Game\")\n",
        "\n",
        "# Colors\n",
        "WHITE = (255, 255, 255)\n",
        "BLACK = (0, 0, 0)\n",
        "RED = (255, 0, 0)\n",
        "GREEN = (0, 255, 0)\n",
        "BLUE = (0, 0, 255)\n",
        "\n",
        "# Fonts\n",
        "font = pygame.font.Font(None, 36)\n",
        "\n",
        "# Load the dataset and model\n",
        "test_path = \"/content/drive/MyDrive/Dataset_EEG/eeg_dataset.csv\"\n",
        "data = pd.read_csv(test_path)\n",
        "\n",
        "# Load the pre-trained model\n",
        "gbm_pickle = joblib.load('/content/drive/MyDrive/Dataset_EEG/lgbEEG.pkl')\n",
        "\n",
        "# Encode the 'state' column\n",
        "label_encoder = LabelEncoder()\n",
        "data['state'] = label_encoder.fit_transform(data['state'])\n",
        "\n",
        "# Prepare your data\n",
        "X = data.drop('state', axis=1)  # Drop the label column\n",
        "y = data['state']  # Use the encoded labels\n",
        "\n",
        "# Make predictions\n",
        "predictions = np.argmax(gbm_pickle.predict(X),axis = 1)  # This gives predicted class labels\n",
        "predicted_states = label_encoder.inverse_transform(predictions)  # Convert back to original labels\n",
        "\n",
        "# Game setup\n",
        "current_state = 0\n",
        "guess = None\n",
        "real_state = None\n",
        "\n",
        "# Main game loop\n",
        "clock = pygame.time.Clock()\n",
        "running = True\n",
        "\n",
        "while running:\n",
        "    for event in pygame.event.get():\n",
        "        if event.type == pygame.QUIT:\n",
        "            running = False\n",
        "        elif event.type == pygame.MOUSEBUTTONDOWN:\n",
        "            if current_state < len(predicted_states):\n",
        "                mouse_pos = pygame.mouse.get_pos()\n",
        "                # Simple button guess\n",
        "                if mouse_pos[0] < WIDTH // 2:\n",
        "                    guess = 0  # Guess state 1\n",
        "                else:\n",
        "                    guess = 1  # Guess state 2\n",
        "                real_state = predicted_states[current_state]\n",
        "                current_state += 1\n",
        "\n",
        "    screen.fill(WHITE)\n",
        "\n",
        "    # Game logic\n",
        "    if guess is not None and real_state is not None:\n",
        "        result_text = f\"Your guess: {guess + 1}\"\n",
        "        actual_text = f\"Actual state: {real_state}\"\n",
        "        result_color = GREEN if (guess == int(real_state) - 1) else RED\n",
        "        screen.blit(font.render(result_text, True, BLACK), (50, 200))\n",
        "        screen.blit(font.render(actual_text, True, BLACK), (50, 250))\n",
        "        pygame.draw.rect(screen, result_color, (50, 300, 200, 50))\n",
        "\n",
        "    else:\n",
        "        prompt = font.render(\"Click Left or Right to guess the state!\", True, BLACK)\n",
        "        screen.blit(prompt, (WIDTH // 2 - prompt.get_width() // 2, HEIGHT // 2 - prompt.get_height() // 2))\n",
        "\n",
        "    pygame.display.flip()\n",
        "    clock.tick(60)\n",
        "\n",
        "pygame.quit()\n",
        "sys.exit()\n"
      ],
      "metadata": {
        "colab": {
          "base_uri": "https://localhost:8080/",
          "height": 219
        },
        "id": "bvfydnMe2QHX",
        "outputId": "4727e846-a458-4fff-f493-ec7db2aff8fb"
      },
      "execution_count": null,
      "outputs": [
        {
          "output_type": "error",
          "ename": "KeyboardInterrupt",
          "evalue": "",
          "traceback": [
            "\u001b[0;31m---------------------------------------------------------------------------\u001b[0m",
            "\u001b[0;31mKeyboardInterrupt\u001b[0m                         Traceback (most recent call last)",
            "\u001b[0;32m<ipython-input-156-e0e5b680b312>\u001b[0m in \u001b[0;36m<cell line: 54>\u001b[0;34m()\u001b[0m\n\u001b[1;32m     83\u001b[0m \u001b[0;34m\u001b[0m\u001b[0m\n\u001b[1;32m     84\u001b[0m     \u001b[0mpygame\u001b[0m\u001b[0;34m.\u001b[0m\u001b[0mdisplay\u001b[0m\u001b[0;34m.\u001b[0m\u001b[0mflip\u001b[0m\u001b[0;34m(\u001b[0m\u001b[0;34m)\u001b[0m\u001b[0;34m\u001b[0m\u001b[0;34m\u001b[0m\u001b[0m\n\u001b[0;32m---> 85\u001b[0;31m     \u001b[0mclock\u001b[0m\u001b[0;34m.\u001b[0m\u001b[0mtick\u001b[0m\u001b[0;34m(\u001b[0m\u001b[0;36m60\u001b[0m\u001b[0;34m)\u001b[0m\u001b[0;34m\u001b[0m\u001b[0;34m\u001b[0m\u001b[0m\n\u001b[0m\u001b[1;32m     86\u001b[0m \u001b[0;34m\u001b[0m\u001b[0m\n\u001b[1;32m     87\u001b[0m \u001b[0mpygame\u001b[0m\u001b[0;34m.\u001b[0m\u001b[0mquit\u001b[0m\u001b[0;34m(\u001b[0m\u001b[0;34m)\u001b[0m\u001b[0;34m\u001b[0m\u001b[0;34m\u001b[0m\u001b[0m\n",
            "\u001b[0;31mKeyboardInterrupt\u001b[0m: "
          ]
        }
      ]
    },
    {
      "cell_type": "code",
      "source": [
        "import pygame\n",
        "import sys\n",
        "import random\n",
        "import numpy as np\n",
        "import joblib\n",
        "from sklearn.preprocessing import LabelEncoder\n",
        "\n",
        "# Initialize Pygame\n",
        "pygame.init()\n",
        "\n",
        "# Screen setup\n",
        "WIDTH, HEIGHT = 800, 600\n",
        "screen = pygame.display.set_mode((WIDTH, HEIGHT))\n",
        "pygame.display.set_caption(\"EEG State Predictor Game\")\n",
        "\n",
        "# Colors\n",
        "WHITE = (255, 255, 255)\n",
        "BLACK = (0, 0, 0)\n",
        "RED = (255, 0, 0)\n",
        "GREEN = (0, 255, 0)\n",
        "BLUE = (0, 0, 255)\n",
        "\n",
        "# Fonts\n",
        "font = pygame.font.Font(None, 36)\n",
        "\n",
        "# Load the model (adjust the path as needed)\n",
        "model = joblib.load('/content/drive/MyDrive/Dataset_EEG/lgbEEG.pkl')\n",
        "\n",
        "# Define your data for label encoding (ensure this is correct)\n",
        "data = ...  # Load your data here\n",
        "label_encoder = LabelEncoder()\n",
        "label_encoder.fit(data['state'])  # Replace with your actual state names\n",
        "\n",
        "# EEG Wave Simulation\n",
        "class EEGWave:\n",
        "    def __init__(self, color):\n",
        "        self.color = color\n",
        "        self.points = [(0, HEIGHT // 2)]\n",
        "        self.max_points = WIDTH\n",
        "\n",
        "    def update(self):\n",
        "        if len(self.points) >= self.max_points:\n",
        "            self.points.pop(0)\n",
        "        new_y = self.points[-1][1] + random.randint(-5, 5)\n",
        "        new_y = max(min(new_y, HEIGHT - 10), 10)  # Keep within screen bounds\n",
        "        self.points.append((self.points[-1][0] + 1, new_y))\n",
        "\n",
        "    def draw(self, surface):\n",
        "        if len(self.points) > 1:\n",
        "            pygame.draw.lines(surface, self.color, False, self.points, 2)\n",
        "\n",
        "# Game states\n",
        "SIMULATING = 0\n",
        "GUESSING = 1\n",
        "RESULT = 2\n",
        "\n",
        "# Game setup\n",
        "eeg_waves = [EEGWave(RED), EEGWave(GREEN), EEGWave(BLUE)]\n",
        "current_state = SIMULATING\n",
        "simulation_time = 0\n",
        "guess_buttons = [\n",
        "    pygame.Rect(WIDTH // 4 - 100, HEIGHT - 100, 200, 50),\n",
        "    pygame.Rect(3 * WIDTH // 4 - 100, HEIGHT - 100, 200, 50)\n",
        "]\n",
        "guess = None\n",
        "real_state = None\n",
        "prediction = None\n",
        "\n",
        "# Main game loop\n",
        "clock = pygame.time.Clock()\n",
        "running = True\n",
        "\n",
        "while running:\n",
        "    for event in pygame.event.get():\n",
        "        if event.type == pygame.QUIT:\n",
        "            running = False\n",
        "        elif event.type == pygame.MOUSEBUTTONDOWN and current_state == GUESSING:\n",
        "            mouse_pos = pygame.mouse.get_pos()\n",
        "            for i, button in enumerate(guess_buttons):\n",
        "                if button.collidepoint(mouse_pos):\n",
        "                    guess = i\n",
        "                    current_state = RESULT\n",
        "\n",
        "    screen.fill(WHITE)\n",
        "\n",
        "    if current_state == SIMULATING:\n",
        "        simulation_time += 1\n",
        "        for wave in eeg_waves:\n",
        "            wave.update()\n",
        "            wave.draw(screen)\n",
        "\n",
        "        if simulation_time >= 300:  # Simulate for 5 seconds (60 FPS * 5)\n",
        "            current_state = GUESSING\n",
        "            # Generate 'real' state and model prediction\n",
        "            features = [wave.points[-1][1] for wave in eeg_waves]\n",
        "            X = np.array(features).reshape(1, -1)\n",
        "            prediction = model.predict(X)\n",
        "            real_state = np.argmax(prediction)  # Adjust if model output is not probabilities\n",
        "\n",
        "    elif current_state == GUESSING:\n",
        "        for wave in eeg_waves:\n",
        "            wave.draw(screen)\n",
        "\n",
        "        for i, button in enumerate(guess_buttons):\n",
        "            pygame.draw.rect(screen, BLACK, button, 2)\n",
        "            text = font.render(f\"State {i+1}\", True, BLACK)\n",
        "            text_rect = text.get_rect(center=button.center)\n",
        "            screen.blit(text, text_rect)\n",
        "\n",
        "        prompt = font.render(\"Guess the EEG state:\", True, BLACK)\n",
        "        screen.blit(prompt, (WIDTH // 2 - prompt.get_width() // 2, HEIGHT - 150))\n",
        "\n",
        "    elif current_state == RESULT:\n",
        "        result_text = f\"Your guess: State {guess + 1}\" if guess is not None else \"No guess made.\"\n",
        "        real_text = f\"Actual state: State {real_state + 1}\" if real_state is not None else \"No state available.\"\n",
        "        prediction_text = f\"Model prediction: State {np.argmax(prediction) + 1}\" if prediction is not None else \"No prediction made.\"\n",
        "\n",
        "        screen.blit(font.render(result_text, True, BLACK), (50, 200))\n",
        "        screen.blit(font.render(real_text, True, BLACK), (50, 250))\n",
        "        screen.blit(font.render(prediction_text, True, BLACK), (50, 300))\n",
        "\n",
        "        if guess == real_state:\n",
        "            screen.blit(font.render(\"Correct guess!\", True, GREEN), (50, 350))\n",
        "        else:\n",
        "            screen.blit(font.render(\"Incorrect guess.\", True, RED), (50, 350))\n",
        "\n",
        "        # Reset button\n",
        "        reset_button = pygame.Rect(WIDTH // 2 - 100, HEIGHT - 100, 200, 50)\n",
        "        pygame.draw.rect(screen, BLACK, reset_button, 2)\n",
        "        reset_text = font.render(\"Play Again\", True, BLACK)\n",
        "        reset_text_rect = reset_text.get_rect(center=reset_button.center)\n",
        "        screen.blit(reset_text, reset_text_rect)\n",
        "\n",
        "        # Check for reset\n",
        "        if event.type == pygame.MOUSEBUTTONDOWN and reset_button.collidepoint(pygame.mouse.get_pos()):\n",
        "            current_state = SIMULATING\n",
        "            simulation_time = 0\n",
        "            eeg_waves = [EEGWave(RED), EEGWave(GREEN), EEGWave(BLUE)]\n",
        "            guess = None\n",
        "            real_state = None\n",
        "            prediction = None\n",
        "\n",
        "    pygame.display.flip()\n",
        "    clock.tick(60)\n",
        "\n",
        "pygame.quit()\n",
        "sys.exit()\n"
      ],
      "metadata": {
        "colab": {
          "base_uri": "https://localhost:8080/",
          "height": 219
        },
        "id": "O0qPT4MDxuvG",
        "outputId": "0ccf694e-8ea9-484f-9ae0-b07e741cc749"
      },
      "execution_count": null,
      "outputs": [
        {
          "output_type": "error",
          "ename": "TypeError",
          "evalue": "'ellipsis' object is not subscriptable",
          "traceback": [
            "\u001b[0;31m---------------------------------------------------------------------------\u001b[0m",
            "\u001b[0;31mTypeError\u001b[0m                                 Traceback (most recent call last)",
            "\u001b[0;32m<ipython-input-150-5486bda2e486>\u001b[0m in \u001b[0;36m<cell line: 32>\u001b[0;34m()\u001b[0m\n\u001b[1;32m     30\u001b[0m \u001b[0mdata\u001b[0m \u001b[0;34m=\u001b[0m \u001b[0;34m...\u001b[0m  \u001b[0;31m# Load your data here\u001b[0m\u001b[0;34m\u001b[0m\u001b[0;34m\u001b[0m\u001b[0m\n\u001b[1;32m     31\u001b[0m \u001b[0mlabel_encoder\u001b[0m \u001b[0;34m=\u001b[0m \u001b[0mLabelEncoder\u001b[0m\u001b[0;34m(\u001b[0m\u001b[0;34m)\u001b[0m\u001b[0;34m\u001b[0m\u001b[0;34m\u001b[0m\u001b[0m\n\u001b[0;32m---> 32\u001b[0;31m \u001b[0mlabel_encoder\u001b[0m\u001b[0;34m.\u001b[0m\u001b[0mfit\u001b[0m\u001b[0;34m(\u001b[0m\u001b[0mdata\u001b[0m\u001b[0;34m[\u001b[0m\u001b[0;34m'state'\u001b[0m\u001b[0;34m]\u001b[0m\u001b[0;34m)\u001b[0m  \u001b[0;31m# Replace with your actual state names\u001b[0m\u001b[0;34m\u001b[0m\u001b[0;34m\u001b[0m\u001b[0m\n\u001b[0m\u001b[1;32m     33\u001b[0m \u001b[0;34m\u001b[0m\u001b[0m\n\u001b[1;32m     34\u001b[0m \u001b[0;31m# EEG Wave Simulation\u001b[0m\u001b[0;34m\u001b[0m\u001b[0;34m\u001b[0m\u001b[0m\n",
            "\u001b[0;31mTypeError\u001b[0m: 'ellipsis' object is not subscriptable"
          ]
        }
      ]
    }
  ]
}